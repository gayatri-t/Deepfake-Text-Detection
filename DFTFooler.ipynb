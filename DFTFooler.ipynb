{
 "cells": [
  {
   "cell_type": "code",
   "execution_count": 2,
   "id": "204026c0-e1d9-4091-a43f-e357f6a59a9b",
   "metadata": {},
   "outputs": [
    {
     "name": "stderr",
     "output_type": "stream",
     "text": [
      "Some weights of the model checkpoint at bert-base-uncased were not used when initializing BertForMaskedLM: ['bert.pooler.dense.bias', 'bert.pooler.dense.weight', 'cls.seq_relationship.bias', 'cls.seq_relationship.weight']\n",
      "- This IS expected if you are initializing BertForMaskedLM from the checkpoint of a model trained on another task or with another architecture (e.g. initializing a BertForSequenceClassification model from a BertForPreTraining model).\n",
      "- This IS NOT expected if you are initializing BertForMaskedLM from the checkpoint of a model that you expect to be exactly identical (initializing a BertForSequenceClassification model from a BertForSequenceClassification model).\n"
     ]
    },
    {
     "name": "stdout",
     "output_type": "stream",
     "text": [
      "Adversarial examples saved to adversarial_examples.jsonl\n"
     ]
    }
   ],
   "source": [
    "import os\n",
    "import numpy as np\n",
    "import jsonlines\n",
    "import transformers\n",
    "import torch\n",
    "from transformers import BertTokenizer, BertForMaskedLM\n",
    "import random\n",
    "import csv\n",
    "\n",
    "random.seed(0)\n",
    "tokenizer = BertTokenizer.from_pretrained('bert-base-uncased')\n",
    "model = BertForMaskedLM.from_pretrained('bert-base-uncased')\n",
    "model.eval()\n",
    "\n",
    "def read_data(path):\n",
    "    data = []\n",
    "    with jsonlines.open(path, 'r') as input_articles:\n",
    "        for article in input_articles:\n",
    "            data.append(article['text'])\n",
    "    return data\n",
    "\n",
    "def get_masked_word(sentence):\n",
    "    tokens = tokenizer.tokenize(sentence)\n",
    "    masked_idx = random.randint(1, len(tokens) - 2)  # Avoid [CLS] and [SEP]\n",
    "    tokens[masked_idx] = '[MASK]'\n",
    "    masked_sentence = ' '.join(tokens)\n",
    "    return masked_sentence, masked_idx\n",
    "\n",
    "def get_top_synonyms(masked_sentence, masked_idx, num_synonyms=5):\n",
    "    tokens = tokenizer.tokenize(masked_sentence)\n",
    "    \n",
    "    # Check if the tokenized sentence length exceeds the maximum sequence length\n",
    "    if len(tokens) > tokenizer.model_max_length - 2:  # -2 for [CLS] and [SEP]\n",
    "        tokens = tokens[:tokenizer.model_max_length - 2]\n",
    "    \n",
    "    # Add [CLS] and [SEP] tokens\n",
    "    tokens = ['[CLS]'] + tokens + ['[SEP]']\n",
    "\n",
    "    # Ensure masked_idx is within bounds\n",
    "    if masked_idx >= tokenizer.model_max_length - 2:\n",
    "        masked_idx = tokenizer.model_max_length - 3  # -3 to account for [CLS] and [SEP]\n",
    "\n",
    "    input_ids = tokenizer.convert_tokens_to_ids(tokens)\n",
    "    input_ids = torch.tensor([input_ids])\n",
    "    \n",
    "    with torch.no_grad():\n",
    "        outputs = model(input_ids)\n",
    "    \n",
    "    predictions = outputs[0][0, masked_idx + 1].topk(num_synonyms)  # +1 to adjust for [CLS] token\n",
    "    \n",
    "    synonyms = [tokenizer.convert_ids_to_tokens([token.item()])[0] for token in predictions.indices]\n",
    "    \n",
    "    return synonyms\n",
    "\n",
    "def replace_word(sentence, masked_idx, synonym):\n",
    "    tokens = tokenizer.tokenize(sentence)\n",
    "    tokens[masked_idx] = synonym\n",
    "    replaced_sentence = ' '.join(tokens)\n",
    "    return replaced_sentence\n",
    "\n",
    "def adversarial_attack(data, num_samples=1000):\n",
    "    adversarial_examples = []\n",
    "    for i, sentence in enumerate(data[:num_samples]):\n",
    "        #print(f\"Processing sentence {i+1}/{num_samples}\")\n",
    "        masked_sentence, masked_idx = get_masked_word(sentence)\n",
    "        synonyms = get_top_synonyms(masked_sentence, masked_idx)\n",
    "        for synonym in synonyms:\n",
    "            replaced_sentence = replace_word(sentence, masked_idx, synonym)\n",
    "            adversarial_examples.append({\n",
    "                'original': sentence,\n",
    "                'perturbed': replaced_sentence,\n",
    "                'synonym': synonym\n",
    "            })\n",
    "    return adversarial_examples\n",
    "\n",
    "if __name__ == '__main__':\n",
    "    input_file = 'GPT.jsonl'\n",
    "    output_file = 'adversarial_examples.jsonl'\n",
    "\n",
    "    data = read_data(input_file)\n",
    "    adversarial_examples = adversarial_attack(data)\n",
    "\n",
    "    with jsonlines.open(output_file, 'w') as writer:\n",
    "        for example in adversarial_examples:\n",
    "            writer.write(example)\n",
    "\n",
    "    print(f\"Adversarial examples saved to {output_file}\")\n"
   ]
  },
  {
   "cell_type": "code",
   "execution_count": null,
   "id": "97bdaad2-5b12-45b1-9243-386209be3e01",
   "metadata": {},
   "outputs": [],
   "source": []
  }
 ],
 "metadata": {
  "kernelspec": {
   "display_name": "Python 3 (ipykernel)",
   "language": "python",
   "name": "python3"
  },
  "language_info": {
   "codemirror_mode": {
    "name": "ipython",
    "version": 3
   },
   "file_extension": ".py",
   "mimetype": "text/x-python",
   "name": "python",
   "nbconvert_exporter": "python",
   "pygments_lexer": "ipython3",
   "version": "3.9.12"
  }
 },
 "nbformat": 4,
 "nbformat_minor": 5
}
